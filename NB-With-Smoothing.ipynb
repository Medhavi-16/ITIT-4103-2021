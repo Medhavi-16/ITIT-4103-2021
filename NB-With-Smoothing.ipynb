{
  "nbformat": 4,
  "nbformat_minor": 0,
  "metadata": {
    "colab": {
      "name": "Untitled9.ipynb",
      "provenance": [],
      "authorship_tag": "ABX9TyOumu3oViX+QYk3MTk3gPT4",
      "include_colab_link": true
    },
    "kernelspec": {
      "name": "python3",
      "display_name": "Python 3"
    },
    "language_info": {
      "name": "python"
    }
  },
  "cells": [
    {
      "cell_type": "markdown",
      "metadata": {
        "id": "view-in-github",
        "colab_type": "text"
      },
      "source": [
        "<a href=\"https://colab.research.google.com/github/Medhavi-16/ITIT-4103-2021/blob/main/NB-With-Smoothing.ipynb\" target=\"_parent\"><img src=\"https://colab.research.google.com/assets/colab-badge.svg\" alt=\"Open In Colab\"/></a>"
      ]
    },
    {
      "cell_type": "code",
      "metadata": {
        "id": "LPO1-8w-ypw-"
      },
      "source": [
        "import numpy as np\n",
        "import matplotlib\n",
        "import matplotlib.pyplot as plt\n",
        "import pandas as pd\n",
        "from sklearn import datasets\n",
        "from sklearn.metrics import classification_report\n",
        "from tqdm import tqdm\n",
        "from time import time"
      ],
      "execution_count": null,
      "outputs": []
    },
    {
      "cell_type": "code",
      "metadata": {
        "colab": {
          "base_uri": "https://localhost:8080/"
        },
        "id": "rnE_GzQiyrEe",
        "outputId": "b9d70a58-6d20-4d58-f22e-c6ac9ff874bc"
      },
      "source": [
        "from keras.datasets import mnist\n",
        "(x_train, y_train), (x_test, y_test) = mnist.load_data()\n",
        "x_train=x_train.reshape(60000,784)\n",
        "x_test=x_test.reshape(10000,784)\n",
        "data=np.zeros([70000,784])\n",
        "data[:60000,:]=x_train; data[60000:,:]=x_test\n",
        "label=np.zeros(70000)\n",
        "label[:60000]=y_train; label[60000:]=y_test"
      ],
      "execution_count": null,
      "outputs": [
        {
          "output_type": "stream",
          "name": "stdout",
          "text": [
            "Downloading data from https://storage.googleapis.com/tensorflow/tf-keras-datasets/mnist.npz\n",
            "11493376/11490434 [==============================] - 0s 0us/step\n",
            "11501568/11490434 [==============================] - 0s 0us/step\n"
          ]
        }
      ]
    },
    {
      "cell_type": "code",
      "metadata": {
        "id": "PlmRHyK47_Eq"
      },
      "source": [
        "def naive_bayes(data,label, alpha):\n",
        "    n_s,n_f=data.shape          \n",
        "    classes=np.unique(label)    \n",
        "    n_c=len(classes)            \n",
        "    total_data=np.zeros([n_s,n_f+1])\n",
        "    total_data[:,:-1]=data          \n",
        "    total_data[:,-1]=label           \n",
        "    np.random.shuffle(total_data)    \n",
        "    trainX=total_data[:60000,:]      \n",
        "    np.random.shuffle(trainX)              \n",
        "    testX=total_data[60000:,:]       \n",
        "    np.random.shuffle(testX)         \n",
        "    testX_c=testX[:,:-1]            \n",
        "    testX_l=testX[:,-1]              \n",
        "    mean_v=np.zeros([n_c,n_f])       \n",
        "    var_v=np.zeros([n_c,n_f])        \n",
        "    c_prob=[]                        \n",
        "    confusion_matrix=np.zeros([n_c,n_c])\n",
        "    d_acc=[]                       \n",
        "    \n",
        "    for c in classes:\n",
        "        trainX_c=trainX[trainX[:,-1]==c]   \n",
        "        trainX_c=trainX_c[:,:-1]        \n",
        "        c_prob.append(len(trainX_c)/len(trainX))\n",
        "        mean_v[int(c),:]=trainX_c.mean(axis=0)\n",
        "        var_v[int(c),:]=trainX_c.var(axis=0)\n",
        "    \n",
        "    var_v=var_v+alpha    \n",
        "    count=0             \n",
        "    \n",
        "    for i in range(testX.shape[0]):\n",
        "        lists=[]   \n",
        "        for j in range(n_c):\n",
        "            numerator=np.exp(-((testX_c[i]-mean_v[j])**2)/(2*var_v[j])) \n",
        "            denominator=np.sqrt(2*np.pi*(var_v[j]))\n",
        "            prob_xc=numerator/denominator\n",
        "            ratio=np.sum(np.log(prob_xc))  \n",
        "            lists.append(ratio)\n",
        "            pred=lists.index(max(lists)) \n",
        "        if pred == testX_l[i]: \n",
        "            count=count+1 \n",
        "            confusion_matrix[int(testX_l[i])][int(testX_l[i])]=confusion_matrix[int(testX_l[i])][int(testX_l[i])]+1\n",
        "        else:\n",
        "            for k in range(n_c):\n",
        "                if pred == k:\n",
        "                    confusion_matrix[int(testX_l[k])][int(testX_l[i])]=confusion_matrix[int(testX_l[k])][int(testX_l[i])]+1\n",
        "                    \n",
        "    for l in classes:\n",
        "          check=testX[testX[:,-1]==l]\n",
        "          a=(confusion_matrix[int(l)][int(l)])/check.shape[0] \n",
        "          d_acc.append(1 - a)  \n",
        "      \n",
        "\n",
        "    o_acc=count/testX.shape[0] #Find overall Accuracy\n",
        "    return(d_acc,1 - o_acc,confusion_matrix,mean_v,var_v)\n",
        "      "
      ],
      "execution_count": null,
      "outputs": []
    },
    {
      "cell_type": "code",
      "metadata": {
        "id": "YNwDQ1aW6eyv"
      },
      "source": [
        "def naive_bayes_smoothing(data,label):\n",
        "    \n",
        "    alpha = [500,1000,2000]\n",
        "    \n",
        "    lists=[]\n",
        "    for i in range(len(alpha)):\n",
        "        (err,digit_err,cm, mean, var) = naive_bayes(data,label,alpha[i])\n",
        "        lists.append(err)\n",
        "    \n",
        "    index_alpha = lists.index(min(lists))\n",
        "    print(\"Alpha value with minimum total error = \", alpha[index_alpha])\n",
        "    \n",
        "    (total_accuracy,digit_accuracy,confusion_matrix,mean,var)=naive_bayes(data,label,alpha[index_alpha])\n",
        "    \n",
        "    return (total_accuracy,digit_accuracy,confusion_matrix,mean,var)"
      ],
      "execution_count": null,
      "outputs": []
    },
    {
      "cell_type": "code",
      "metadata": {
        "colab": {
          "base_uri": "https://localhost:8080/"
        },
        "id": "ucB0A5xW8Rdc",
        "outputId": "57cda752-d51f-4662-92da-9297056cfaba"
      },
      "source": [
        "(digit_accuracy,overall_accuracy,matrix,mean_v,var_v)=naive_bayes_smoothing(data,label)"
      ],
      "execution_count": null,
      "outputs": [
        {
          "output_type": "stream",
          "name": "stdout",
          "text": [
            "Alpha value with minimum total error =  500\n"
          ]
        }
      ]
    },
    {
      "cell_type": "code",
      "metadata": {
        "colab": {
          "base_uri": "https://localhost:8080/"
        },
        "id": "7nlCp_yH0PXM",
        "outputId": "c7c3e5a8-a263-41a7-9d64-76fcde3da9e6"
      },
      "source": [
        "print('Overall Error of Naive Bayes Model: '+str(overall_accuracy))\n",
        "overall_accuracy"
      ],
      "execution_count": null,
      "outputs": [
        {
          "output_type": "stream",
          "name": "stdout",
          "text": [
            "Overall Error of Naive Bayes Model: 0.20930000000000004\n"
          ]
        },
        {
          "output_type": "execute_result",
          "data": {
            "text/plain": [
              "0.20930000000000004"
            ]
          },
          "metadata": {},
          "execution_count": 45
        }
      ]
    }
  ]
}